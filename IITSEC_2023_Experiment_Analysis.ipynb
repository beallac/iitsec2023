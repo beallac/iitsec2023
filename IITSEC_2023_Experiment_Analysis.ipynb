{
  "nbformat": 4,
  "nbformat_minor": 0,
  "metadata": {
    "colab": {
      "provenance": [],
      "toc_visible": true,
      "include_colab_link": true
    },
    "kernelspec": {
      "name": "python3",
      "display_name": "Python 3"
    },
    "language_info": {
      "name": "python"
    }
  },
  "cells": [
    {
      "cell_type": "markdown",
      "metadata": {
        "id": "view-in-github",
        "colab_type": "text"
      },
      "source": [
        "<a href=\"https://colab.research.google.com/github/beallac/iitsec2023/blob/main/IITSEC_2023_Experiment_Analysis.ipynb\" target=\"_parent\"><img src=\"https://colab.research.google.com/assets/colab-badge.svg\" alt=\"Open In Colab\"/></a>"
      ]
    },
    {
      "cell_type": "markdown",
      "source": [
        "Analysis - Single\n",
        "================="
      ],
      "metadata": {
        "id": "N1Rn0KrQBJYU"
      }
    },
    {
      "cell_type": "code",
      "source": [
        "import pandas as pd\n",
        "\n",
        "# Load the fNIR data\n",
        "data_path   = 'https://raw.githubusercontent.com/beallac/iitsec2023/main/alex.oxy'\n",
        "marker_path = 'https://raw.githubusercontent.com/beallac/iitsec2023/main/alex.mrk'\n",
        "\n",
        "# Alertnatively, you can use google's transient disk storage for \"local\" file access\n",
        "# data_path   = 'alex.oxy'\n",
        "# marker_path = 'alex.mrk'\n",
        "\n",
        "# Generate column names as per the specified pattern\n",
        "column_names = ['time']\n",
        "for i in range(1, 19):\n",
        "    column_names.extend([f'opt_{i}_deoxy', f'opt_{i}_oxy'])\n",
        "column_names.append('counter')\n",
        "\n",
        "# Load the data, skipping the first 8 rows, using tab as the delimiter, and assigning the column names\n",
        "data = pd.read_csv(data_path, delimiter='\\t', header=None, skiprows=8, names=column_names)\n",
        "\n",
        "marker = pd.read_csv(marker_path, delimiter='\\t', header=None, skiprows=6, names=['time_stamp', 'marker_code', 'unused_code'])\n"
      ],
      "metadata": {
        "id": "JlbPPFTsIVT6"
      },
      "execution_count": null,
      "outputs": []
    },
    {
      "cell_type": "code",
      "source": [
        "# Process marker data to find start and stop times for each condition\n",
        "# Assuming consecutive rows with the same marker indicate a continuous condition\n",
        "conditions = {}\n",
        "for index, row in marker.iterrows():\n",
        "    marker = row['marker_code']\n",
        "    if marker in conditions:\n",
        "        # Assuming markers always come in pairs, we append the stop time\n",
        "        conditions[marker].append(row['time_stamp'])\n",
        "    else:\n",
        "        # Start of a new marker condition\n",
        "        conditions[marker] = [row['time_stamp']]\n",
        "\n",
        "# Ensure each marker has a pair, if not, assign 'inf' as the stop time\n",
        "for marker, times in conditions.items():\n",
        "    if len(times) % 2 != 0:\n",
        "        times.append(float('inf'))\n",
        "\n",
        "# Add a condition index to the main data frame\n",
        "def get_condition(time):\n",
        "    for marker, times in conditions.items():\n",
        "        for i in range(0, len(times), 2):\n",
        "            if times[i] <= time < times[i + 1]:\n",
        "                return marker\n",
        "    return None\n",
        "data.insert(1, 'condition', data['time'].apply(get_condition))"
      ],
      "metadata": {
        "id": "jzUBu0BlOfBA"
      },
      "execution_count": null,
      "outputs": []
    },
    {
      "cell_type": "code",
      "source": [
        "import numpy as np\n",
        "from scipy.signal import lfilter\n",
        "\n",
        "# Assuming 'data' is your main DataFrame\n",
        "\n",
        "# Filter coefficients\n",
        "coefficients = np.array([3.69421067777138E-19, 0.00132722289691133, 0.00465025225065795, 0.0117498026081424, 0.023779221956107, 0.0407234511898748, 0.0611569261162345, 0.082403674188359, 0.101082211156672, 0.113897378800498, 0.118459717673086, 0.113897378800498, 0.101082211156672, 0.082403674188359, 0.0611569261162345, 0.0407234511898748, 0.0237792219561071, 0.0117498026081424, 0.00465025225065795, 0.00132722289691133, 3.69421067777138E-19], dtype=float)\n",
        "\n",
        "# Apply the filter to each '_oxy' and '_deoxy' column\n",
        "for column in data.columns:\n",
        "    if '_oxy' in column or '_deoxy' in column:\n",
        "        # Ensure the column data is in a suitable numeric format\n",
        "        numeric_column = pd.to_numeric(data[column], errors='coerce')\n",
        "        # Apply the filter\n",
        "        data[column] = lfilter(coefficients, 1, numeric_column)"
      ],
      "metadata": {
        "id": "2NWO05xfokOh"
      },
      "execution_count": null,
      "outputs": []
    },
    {
      "cell_type": "code",
      "source": [
        "import pandas as pd\n",
        "import matplotlib.pyplot as plt\n",
        "\n",
        "# Assuming 'data' is your main DataFrame\n",
        "\n",
        "# List of '_oxy' columns\n",
        "oxy_columns = [col for col in data.columns if '_oxy' in col]\n",
        "\n",
        "# Create a new DataFrame that includes only 'condition' and the '_oxy' columns\n",
        "oxy_data = data[['condition'] + oxy_columns]\n",
        "\n",
        "# Group by 'condition' and calculate the mean for each group\n",
        "grouped_oxy_means = oxy_data.groupby('condition')[oxy_columns].mean()\n",
        "\n",
        "# Transpose the DataFrame to get conditions as columns and optodes as rows\n",
        "transposed_means = grouped_oxy_means.T\n",
        "\n",
        "# Plotting\n",
        "ax = transposed_means.plot(kind='bar', figsize=(15, 8))\n",
        "\n",
        "plt.xlabel('Optodes')\n",
        "plt.ylabel('Average Oxy Data')\n",
        "plt.title('Average Oxy Data by Condition and Optode')\n",
        "plt.xticks(rotation=45, ha=\"right\")\n",
        "plt.legend(title='Condition')\n",
        "\n",
        "plt.tight_layout()\n",
        "plt.show()"
      ],
      "metadata": {
        "id": "CMtCq9BZmVwh"
      },
      "execution_count": null,
      "outputs": []
    },
    {
      "cell_type": "code",
      "source": [
        "# Select columns for plotting\n",
        "oxy_columns = [col for col in data.columns if '_oxy' in col]\n",
        "plot_data = data[['time'] + oxy_columns]\n",
        "\n",
        "# Plotting\n",
        "plt.figure(figsize=(12, 8))\n",
        "for col in oxy_columns:\n",
        "    plt.plot(plot_data['time'], plot_data[col], label=col)\n",
        "\n",
        "plt.xlabel('Time')\n",
        "plt.ylabel('Oxy Data')\n",
        "plt.title('Oxy Data Over Time')\n",
        "plt.legend()\n",
        "plt.show()"
      ],
      "metadata": {
        "id": "VUoloQYKJYsg"
      },
      "execution_count": null,
      "outputs": []
    },
    {
      "cell_type": "markdown",
      "source": [
        "# Analysis - Multiple"
      ],
      "metadata": {
        "id": "kfK5v_MiDolT"
      }
    },
    {
      "cell_type": "code",
      "source": [
        "import pandas as pd\n",
        "import numpy as np\n",
        "from scipy.signal import lfilter\n",
        "\n",
        "# List of subjects (oxy & mrk suffixes added automatically)\n",
        "subjects = [\n",
        "    's1',\n",
        "    's2',\n",
        "    's3',\n",
        "    's4',\n",
        "    's5',\n",
        "    's6',\n",
        "    # 'acb_1_123',\n",
        "    # 'acb_2_123',\n",
        "]\n",
        "\n",
        "paths = [(f'{subject}.oxy', f'{subject}.mrk', i+1) for i, subject in enumerate(subjects)]\n",
        "gitpath = \"https://raw.githubusercontent.com/beallac/iitsec2023/main/\"\n",
        "paths = [(f'{gitpath}{path[0]}', f'{gitpath}{path[1]}', path[2]) for path in paths]\n",
        "\n",
        "\n",
        "def process_subject_data(oxy_file, marker_file, subject_number):\n",
        "    # Generate column names\n",
        "    column_names = ['time'] + [f'opt_{i}_{x}' for i in range(1, 19) for x in ['deoxy', 'oxy']] + ['counter']\n",
        "\n",
        "    # Load the data\n",
        "    data = pd.read_csv(oxy_file, delimiter='\\t', header=None, skiprows=8, names=column_names)\n",
        "    marker = pd.read_csv(marker_file, delimiter='\\t', header=None, skiprows=6, names=['time_stamp', 'marker_code', 'unused_code'])\n",
        "\n",
        "    # Process marker data\n",
        "    # Process marker data to find start and stop times for each condition\n",
        "    # Assuming consecutive rows with the same marker indicate a continuous condition\n",
        "    conditions = {}\n",
        "    for index, row in marker.iterrows():\n",
        "        marker = row['marker_code']\n",
        "        if marker in conditions:\n",
        "            # Assuming markers always come in pairs, we append the stop time\n",
        "            conditions[marker].append(row['time_stamp'])\n",
        "        else:\n",
        "            # Start of a new marker condition\n",
        "            conditions[marker] = [row['time_stamp']]\n",
        "\n",
        "    # Ensure each marker has a pair, if not, assign 'inf' as the stop time\n",
        "    for marker, times in conditions.items():\n",
        "        if len(times) % 2 != 0:\n",
        "            times.append(float('inf'))\n",
        "\n",
        "    # Add a condition index to the main data frame\n",
        "    def get_condition(time):\n",
        "        for marker, times in conditions.items():\n",
        "            for i in range(0, len(times), 2):\n",
        "                if times[i] <= time < times[i + 1]:\n",
        "                    return marker\n",
        "        return None\n",
        "\n",
        "    # Add condition index\n",
        "    data.insert(1, 'condition', data['time'].apply(get_condition))\n",
        "\n",
        "    # Filter the data\n",
        "    # Filter coefficients\n",
        "    coefficients = np.array([3.69421067777138E-19, 0.00132722289691133, 0.00465025225065795, 0.0117498026081424, 0.023779221956107, 0.0407234511898748, 0.0611569261162345, 0.082403674188359, 0.101082211156672, 0.113897378800498, 0.118459717673086, 0.113897378800498, 0.101082211156672, 0.082403674188359, 0.0611569261162345, 0.0407234511898748, 0.0237792219561071, 0.0117498026081424, 0.00465025225065795, 0.00132722289691133, 3.69421067777138E-19], dtype=float)\n",
        "\n",
        "    # Apply the filter to each '_oxy' and '_deoxy' column\n",
        "    for column in data.columns:\n",
        "        if '_oxy' in column or '_deoxy' in column:\n",
        "            # Ensure the column data is in a suitable numeric format\n",
        "            numeric_column = pd.to_numeric(data[column], errors='coerce')\n",
        "            # Apply the filter\n",
        "            data[column] = lfilter(coefficients, 1, numeric_column)\n",
        "\n",
        "    # Add a column for subject number\n",
        "    data.insert(1, 'subject', subject_number)\n",
        "\n",
        "    return data\n",
        "\n",
        "# Process data for each subject and concatenate into a single DataFrame\n",
        "all_data = pd.concat([process_subject_data(oxy_file, marker_file, subject_number) for oxy_file, marker_file, subject_number in paths])\n",
        "\n",
        "# Now all_data contains the processed data for all subjects\n"
      ],
      "metadata": {
        "id": "gl1-m6YzDvvW"
      },
      "execution_count": 1,
      "outputs": []
    },
    {
      "cell_type": "code",
      "source": [
        "import matplotlib.pyplot as plt\n",
        "\n",
        "# Assuming 'data' is your main DataFrame\n",
        "\n",
        "# List of '_oxy' columns\n",
        "oxy_columns = [col for col in all_data.columns if '_oxy' in col]\n",
        "\n",
        "# Create a new DataFrame that includes only 'condition' and the '_oxy' columns\n",
        "oxy_data = all_data[['condition'] + oxy_columns]\n",
        "\n",
        "# Group by 'condition' and calculate the mean for each group\n",
        "grouped_oxy_means = oxy_data.groupby('condition')[oxy_columns].mean()\n",
        "\n",
        "# Transpose the DataFrame to get conditions as columns and optodes as rows\n",
        "transposed_means = grouped_oxy_means.T\n",
        "\n",
        "# Plotting\n",
        "ax = transposed_means.plot(kind='bar', figsize=(15, 8))\n",
        "\n",
        "plt.xlabel('Optodes')\n",
        "plt.ylabel('Average Oxy Data')\n",
        "plt.title('Average Oxy Data by Condition and Optode')\n",
        "plt.xticks(rotation=45, ha=\"right\")\n",
        "plt.legend(title='Condition')\n",
        "\n",
        "plt.tight_layout()\n",
        "plt.show()"
      ],
      "metadata": {
        "id": "kW4uNVJOD8mN"
      },
      "execution_count": null,
      "outputs": []
    }
  ]
}