{
  "nbformat": 4,
  "nbformat_minor": 0,
  "metadata": {
    "colab": {
      "provenance": [],
      "toc_visible": true,
      "include_colab_link": true
    },
    "kernelspec": {
      "name": "python3",
      "display_name": "Python 3"
    },
    "language_info": {
      "name": "python"
    }
  },
  "cells": [
    {
      "cell_type": "markdown",
      "metadata": {
        "id": "view-in-github",
        "colab_type": "text"
      },
      "source": [
        "<a href=\"https://colab.research.google.com/github/beallac/iitsec2023/blob/main/Starter_Anaylsis.ipynb\" target=\"_parent\"><img src=\"https://colab.research.google.com/assets/colab-badge.svg\" alt=\"Open In Colab\"/></a>"
      ]
    },
    {
      "cell_type": "markdown",
      "source": [
        "# Starter Analysis"
      ],
      "metadata": {
        "id": "moAe_EayYt-p"
      }
    },
    {
      "cell_type": "code",
      "source": [
        "# import standard Python packages\n",
        "import pandas as pd\n",
        "\n",
        "#====================================================================\n",
        "# Load a CSV file as Pandas dataframe; set the 'Year' column as the index\n",
        "df = pd.read_csv('https://raw.githubusercontent.com/beallac/iitsec2023/main/instructors.csv')\n",
        "#====================================================================\n",
        "\n",
        "df = df.set_index('Year')"
      ],
      "metadata": {
        "id": "4GGYq630ID4U"
      },
      "execution_count": null,
      "outputs": []
    },
    {
      "cell_type": "code",
      "source": [
        "# Show the first 25 lines of data\n",
        "df.head(25)"
      ],
      "metadata": {
        "id": "LSOj4A6kar6Q"
      },
      "execution_count": null,
      "outputs": []
    },
    {
      "cell_type": "code",
      "source": [
        "# Create a boxplot of all the data\n"
      ],
      "metadata": {
        "id": "BC16OZhVcEGb"
      },
      "execution_count": null,
      "outputs": []
    },
    {
      "cell_type": "code",
      "source": [
        "# Create boxplot of height data only\n"
      ],
      "metadata": {
        "id": "9jUaAlJswbbx"
      },
      "execution_count": null,
      "outputs": []
    },
    {
      "cell_type": "code",
      "source": [
        "# Group the data by year, and then make boxplots for height\n"
      ],
      "metadata": {
        "id": "VR_sQ8nBdJcU"
      },
      "execution_count": null,
      "outputs": []
    }
  ]
}